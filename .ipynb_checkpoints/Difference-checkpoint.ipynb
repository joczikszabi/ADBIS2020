{
 "cells": [
  {
   "cell_type": "markdown",
   "metadata": {},
   "source": [
    "# Set Difference"
   ]
  },
  {
   "cell_type": "markdown",
   "metadata": {},
   "source": [
    "Let A = {1,2,3}, B = {2,3,4}  \n",
    "The set that we are looking for is $A\\cap B = \\{1\\}$, which is encoded as 100"
   ]
  },
  {
   "cell_type": "markdown",
   "metadata": {},
   "source": [
    "## Create Quantum Circuit"
   ]
  },
  {
   "cell_type": "code",
   "execution_count": null,
   "metadata": {},
   "outputs": [],
   "source": [
    "import qiskit\n",
    "from qiskit import *\n",
    "from math import pi\n",
    "from qiskit.tools.visualization import plot_histogram # For plotting results\n",
    "from qiskit.tools.monitor import job_monitor # Get queue information using a job monitor"
   ]
  },
  {
   "cell_type": "code",
   "execution_count": null,
   "metadata": {},
   "outputs": [],
   "source": [
    "qr = QuantumRegister(3)\n",
    "cr = ClassicalRegister(3)\n",
    "qc = QuantumCircuit(qr, cr)\n",
    "\n",
    "qc.draw(output='mpl')"
   ]
  },
  {
   "cell_type": "markdown",
   "metadata": {},
   "source": [
    "## Step 1: Initalization"
   ]
  },
  {
   "cell_type": "code",
   "execution_count": null,
   "metadata": {},
   "outputs": [],
   "source": [
    "qc.h(qr[0])\n",
    "qc.h(qr[1])\n",
    "qc.h(qr[2])"
   ]
  },
  {
   "cell_type": "markdown",
   "metadata": {},
   "source": [
    "## Step 2: Grover Iteration"
   ]
  },
  {
   "cell_type": "code",
   "execution_count": null,
   "metadata": {
    "scrolled": true
   },
   "outputs": [],
   "source": [
    "# Apply Oracle\n",
    "qc.id(qr[0])\n",
    "qc.id(qr[1])\n",
    "qc.x(qr[2])\n",
    "qc.id(qr[0])\n",
    "qc.h(qr[2])\n",
    "qc.id(qr[1])\n",
    "qc.ccx(qr[0],qr[1],qr[2])\n",
    "qc.id(qr[0])\n",
    "qc.id(qr[1])\n",
    "qc.h(qr[2])\n",
    "qc.id(qr[0])\n",
    "qc.id(qr[1])\n",
    "qc.x(qr[2])\n",
    "\n",
    "qc.draw(output='mpl')"
   ]
  },
  {
   "cell_type": "code",
   "execution_count": null,
   "metadata": {},
   "outputs": [],
   "source": [
    "# Apply Grover Diffusion Operator\n",
    "qc.h(qr[0])\n",
    "qc.h(qr[1])\n",
    "qc.h(qr[2])\n",
    "qc.x(qr[0])\n",
    "qc.x(qr[1])\n",
    "qc.x(qr[2])\n",
    "qc.id(qr[0])\n",
    "qc.id(qr[1])\n",
    "qc.h(qr[2])\n",
    "qc.ccx(qr[0],qr[1],qr[2])\n",
    "qc.id(qr[0])\n",
    "qc.id(qr[1])\n",
    "qc.h(qr[2])\n",
    "qc.x(qr[0])\n",
    "qc.x(qr[1])\n",
    "qc.x(qr[2])\n",
    "qc.h(qr[0])\n",
    "qc.h(qr[1])\n",
    "qc.h(qr[2])\n",
    "\n",
    "qc.draw(output='mpl')"
   ]
  },
  {
   "cell_type": "markdown",
   "metadata": {},
   "source": [
    "### Repeat again"
   ]
  },
  {
   "cell_type": "code",
   "execution_count": null,
   "metadata": {
    "scrolled": true
   },
   "outputs": [],
   "source": [
    "# Apply Oracle\n",
    "qc.id(qr[0])\n",
    "qc.id(qr[1])\n",
    "qc.x(qr[2])\n",
    "qc.id(qr[0])\n",
    "qc.h(qr[2])\n",
    "qc.id(qr[1])\n",
    "qc.ccx(qr[0],qr[1],qr[2])\n",
    "qc.id(qr[0])\n",
    "qc.id(qr[1])\n",
    "qc.h(qr[2])\n",
    "qc.id(qr[0])\n",
    "qc.id(qr[1])\n",
    "qc.x(qr[2])\n",
    "\n",
    "# Apply Grover Diffusion Operator\n",
    "qc.h(qr[0])\n",
    "qc.h(qr[1])\n",
    "qc.h(qr[2])\n",
    "qc.x(qr[0])\n",
    "qc.x(qr[1])\n",
    "qc.x(qr[2])\n",
    "qc.id(qr[0])\n",
    "qc.id(qr[1])\n",
    "qc.h(qr[2])\n",
    "qc.ccx(qr[0],qr[1],qr[2])\n",
    "qc.id(qr[0])\n",
    "qc.id(qr[1])\n",
    "qc.h(qr[2])\n",
    "qc.x(qr[0])\n",
    "qc.x(qr[1])\n",
    "qc.x(qr[2])\n",
    "qc.h(qr[0])\n",
    "qc.h(qr[1])\n",
    "qc.h(qr[2])\n",
    "\n",
    "qc.draw(output='mpl')"
   ]
  },
  {
   "cell_type": "markdown",
   "metadata": {},
   "source": [
    "## Step 4: Apply X Gates"
   ]
  },
  {
   "cell_type": "code",
   "execution_count": null,
   "metadata": {},
   "outputs": [],
   "source": [
    "qc.x(qr[0])\n",
    "qc.x(qr[1])\n",
    "qc.x(qr[2])\n",
    "\n",
    "qc.draw(output='mpl')"
   ]
  },
  {
   "cell_type": "markdown",
   "metadata": {},
   "source": [
    "## Step 3: Measure Qubits"
   ]
  },
  {
   "cell_type": "code",
   "execution_count": null,
   "metadata": {},
   "outputs": [],
   "source": [
    "qc.measure(qr[0], cr[0])\n",
    "qc.measure(qr[1], cr[1])\n",
    "qc.measure(qr[2], cr[2])\n",
    "\n",
    "qc.draw(output='mpl')"
   ]
  },
  {
   "cell_type": "markdown",
   "metadata": {},
   "source": [
    "# Simulation on IBM's quantum computers"
   ]
  },
  {
   "cell_type": "markdown",
   "metadata": {},
   "source": [
    "### Use API to get access to IBM servers"
   ]
  },
  {
   "cell_type": "code",
   "execution_count": 8,
   "metadata": {},
   "outputs": [
    {
     "name": "stderr",
     "output_type": "stream",
     "text": [
      "configrc.store_credentials:WARNING:2020-06-05 15:36:55,592: Credentials already present. Set overwrite=True to overwrite.\n"
     ]
    },
    {
     "data": {
      "text/plain": [
       "<AccountProvider for IBMQ(hub='ibm-q', group='open', project='main')>"
      ]
     },
     "execution_count": 8,
     "metadata": {},
     "output_type": "execute_result"
    }
   ],
   "source": [
    "IBMQ.save_account('5f580f61b258cb044edd655114ac1c91ce0311107bd43c02f566a7e9fd21357a04f524a04aa60834c8d9929c34299da0a2ee6c1cf6b796ee685018a93126175e')\n",
    "IBMQ.load_account()"
   ]
  },
  {
   "cell_type": "markdown",
   "metadata": {},
   "source": [
    "### Quantum Simulator"
   ]
  },
  {
   "cell_type": "code",
   "execution_count": 9,
   "metadata": {},
   "outputs": [
    {
     "name": "stdout",
     "output_type": "stream",
     "text": [
      "Job Status: job has successfully run\n"
     ]
    },
    {
     "data": {
      "image/png": "[encoded data removed]",
      "text/plain": [
       "<Figure size 504x360 with 1 Axes>"
      ]
     },
     "execution_count": 9,
     "metadata": {},
     "output_type": "execute_result"
    }
   ],
   "source": [
    "# Add job to pending list\n",
    "provider = IBMQ.get_provider('ibm-q')\n",
    "qcomp = provider.get_backend('ibmq_qasm_simulator')\n",
    "job = execute(qc, backend=qcomp, shots=1024)\n",
    "\n",
    "# Get queue information using a job monitor\n",
    "from qiskit.tools.monitor import job_monitor\n",
    "job_monitor(job)\n",
    "result = job.result()\n",
    "\n",
    "# Plot results\n",
    "plot_histogram(result.get_counts(qc))"
   ]
  },
  {
   "cell_type": "markdown",
   "metadata": {},
   "source": [
    "### ibmq-london"
   ]
  },
  {
   "cell_type": "code",
   "execution_count": null,
   "metadata": {},
   "outputs": [
    {
     "name": "stdout",
     "output_type": "stream",
     "text": [
      "Job Status: job is queued (9)     "
     ]
    }
   ],
   "source": [
    "# Add job to pending list\n",
    "provider = IBMQ.get_provider(hub='ibm-q')\n",
    "qcomp = provider.get_backend('ibmq_london')\n",
    "job = execute(qc, backend=qcomp, shots=1024)\n",
    "\n",
    "job_monitor(job)\n",
    "result = job.result()\n",
    "\n",
    "# Plot results\n",
    "plot_histogram(result.get_counts(qc))"
   ]
  },
  {
   "cell_type": "markdown",
   "metadata": {},
   "source": [
    "### ibmq-burlington"
   ]
  },
  {
   "cell_type": "code",
   "execution_count": null,
   "metadata": {},
   "outputs": [],
   "source": [
    "# Add job to pending list\n",
    "provider = IBMQ.get_provider('ibm-q')\n",
    "qcomp = provider.get_backend('ibmq_burlington')\n",
    "job = execute(qc, backend=qcomp, shots=1024)\n",
    "\n",
    "# Get queue information using a job monitor\n",
    "from qiskit.tools.monitor import job_monitor\n",
    "job_monitor(job)\n",
    "result = job.result()\n",
    "\n",
    "# Plot results\n",
    "plot_histogram(result.get_counts(qc))"
   ]
  },
  {
   "cell_type": "markdown",
   "metadata": {},
   "source": [
    "### ibmq-vigo"
   ]
  },
  {
   "cell_type": "code",
   "execution_count": null,
   "metadata": {},
   "outputs": [],
   "source": [
    "# Add job to pending list\n",
    "provider = IBMQ.get_provider('ibm-q')\n",
    "qcomp = provider.get_backend('ibmq_vigo')\n",
    "job = execute(qc, backend=qcomp, shots=1024)\n",
    "\n",
    "# Get queue information using a job monitor\n",
    "from qiskit.tools.monitor import job_monitor\n",
    "job_monitor(job)\n",
    "result = job.result()\n",
    "\n",
    "# Plot results\n",
    "plot_histogram(result.get_counts(qc))"
   ]
  },
  {
   "cell_type": "markdown",
   "metadata": {},
   "source": [
    "### ibmq-oursense"
   ]
  },
  {
   "cell_type": "code",
   "execution_count": null,
   "metadata": {},
   "outputs": [],
   "source": [
    "# Add job to pending list\n",
    "provider = IBMQ.get_provider('ibm-q')\n",
    "qcomp = provider.get_backend('ibmq_ourense')\n",
    "job = execute(qc, backend=qcomp, shots=1024)\n",
    "\n",
    "# Get queue information using a job monitor\n",
    "from qiskit.tools.monitor import job_monitor\n",
    "job_monitor(job)\n",
    "result = job.result()\n",
    "\n",
    "# Plot results\n",
    "plot_histogram(result.get_counts(qc))"
   ]
  },
  {
   "cell_type": "markdown",
   "metadata": {},
   "source": [
    "### ibmqx2"
   ]
  },
  {
   "cell_type": "code",
   "execution_count": null,
   "metadata": {},
   "outputs": [],
   "source": [
    "# Add job to pending list\n",
    "provider = IBMQ.get_provider('ibm-q')\n",
    "qcomp = provider.get_backend('ibmqx2')\n",
    "job = execute(qc, backend=qcomp, shots=1024)\n",
    "\n",
    "# Get queue information using a job monitor\n",
    "from qiskit.tools.monitor import job_monitor\n",
    "job_monitor(job)\n",
    "result = job.result()\n",
    "\n",
    "# Plot results\n",
    "plot_histogram(result.get_counts(qc))"
   ]
  }
 ],
 "metadata": {
  "kernelspec": {
   "display_name": "Python 3",
   "language": "python",
   "name": "python3"
  },
  "language_info": {
   "codemirror_mode": {
    "name": "ipython",
    "version": 3
   },
   "file_extension": ".py",
   "mimetype": "text/x-python",
   "name": "python",
   "nbconvert_exporter": "python",
   "pygments_lexer": "ipython3",
   "version": "3.7.3"
  }
 },
 "nbformat": 4,
 "nbformat_minor": 2
}
